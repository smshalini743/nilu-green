{
 "cells": [
  {
   "cell_type": "code",
   "execution_count": 31,
   "id": "14091b9c",
   "metadata": {},
   "outputs": [
    {
     "name": "stdout",
     "output_type": "stream",
     "text": [
      "366      13.7 μg/m³\n",
      "367      6.33 μg/m³\n",
      "368      6.80 μg/m³\n",
      "369      21.0 μg/m³\n",
      "370      9.33 μg/m³\n",
      "           ...     \n",
      "1381     6.10 μg/m³\n",
      "1382     3.45 μg/m³\n",
      "1383     3.17 μg/m³\n",
      "1384     1.18 μg/m³\n",
      "1385    0.591 μg/m³\n",
      "Name: PM2.5, Length: 1020, dtype: object\n"
     ]
    }
   ],
   "source": [
    "import pandas as pd \n",
    "\n",
    "read_file = pd.read_excel (\"pm2.5zy.xlsx\")\n",
    "  \n",
    "# Write the dataframe object into csv file\n",
    "read_file.to_csv (\"PM2.5zy.csv\", \n",
    "                  index = None,\n",
    "                  header=True)\n",
    "    \n",
    "# read csv file and convert into a dataframe object\n",
    "df = pd.DataFrame(pd.read_csv(\"PM2.5zy.csv\"))\n",
    "  \n",
    "# show the dataframe\n",
    "df\n",
    "\n",
    "df.drop(df.index[0:366], inplace = True)\n",
    "df\n",
    "\n",
    "abc = len(df)\n",
    "# print(abc)\n",
    "#df.iloc[2,0]\n",
    "\n",
    "newdate = []\n",
    "newdate = df['Time']\n",
    "refconc = df['PM2.5']\n",
    "# print(newdate)\n",
    "print(refconc)\n",
    "\n",
    "newdate1 = []\n",
    "for i in range(366,1386):\n",
    "    xyz = newdate[i]\n",
    "    wxyz = xyz.replace(xyz[10:19], '')\n",
    "    newdate1.append(wxyz)\n",
    "#print(newdate1)\n",
    "\n",
    "# print(newdate1[0])\n",
    "# date19 = []\n",
    "# date20 = []\n",
    "# date21 = []\n",
    "\n",
    "# for i in range(0,len(date1)):\n"
   ]
  },
  {
   "cell_type": "code",
   "execution_count": null,
   "id": "4eae2507",
   "metadata": {},
   "outputs": [],
   "source": [
    "df1 = pd.read_csv(\"./2019/Airly-report-2019-01-01-2019-12-31.csv\")\n",
    "df2 = pd.read_csv(\"./2020/Airly-report-2020-01-01-2020-12-31.csv\")\n",
    "df3 = pd.read_csv(\"./2021/Daily-Zk.csv\")\n"
   ]
  }
 ],
 "metadata": {
  "kernelspec": {
   "display_name": "Python 3",
   "language": "python",
   "name": "python3"
  },
  "language_info": {
   "codemirror_mode": {
    "name": "ipython",
    "version": 3
   },
   "file_extension": ".py",
   "mimetype": "text/x-python",
   "name": "python",
   "nbconvert_exporter": "python",
   "pygments_lexer": "ipython3",
   "version": "3.8.8"
  }
 },
 "nbformat": 4,
 "nbformat_minor": 5
}
